{
 "cells": [
  {
   "cell_type": "markdown",
   "metadata": {},
   "source": [
    "# It’s Not a Matter of If, It’s a Matter of Huyện\n",
    "## Cutting the Red Tape for New Businesses in Vietnam: A Panel Study\n",
    "\n",
    "\n",
    "In 2009, Vietnam removed all district-level councils in ten provinces, \n",
    "specifically chosen as a quasi-random sampling, in order to statistically \n",
    "assess the effects of recentralization on service provision and corruption. \n",
    "However, removing an extra step in the hierarchy of specific provinces also \n",
    "simplified new business registration in those areas, cutting new business \n",
    "registration times by 2.5 days, suggesting that further recentralization of \n",
    "power to the provincial level may improve the efficiency of bureaucracy in \n",
    "dealing with business startups."
   ]
  },
  {
   "cell_type": "markdown",
   "metadata": {},
   "source": [
    "### Introduction\n",
    "\n",
    "In April of 2009, Vietnam took the historic step of abolishing all district-level councils in ten of its provinces, chosen as a quasi-random sampling, in order to statistically assess the effects of recentralization on service provision and corruption. All power originally held by district councils was moved up the hierarchy to provincial governments. The ten treatment provinces were chosen across region, urbanization, access to borders, and other factors, and were deemed by Dr. Edmund Malesky, a well-known econometrist, to be an adequate substitute for an RCT. Working with Dr. Malesky, at that time a professor at my alma mater, UC San Diego's School of International Relations and Pacific Studies, the Vietnamese Government found that __[recentralized provinces provided better services (infrastructure, education, health, etc.) at statistically significant levels, and also suffered lower corruption rates after having removed their district councils, and when compared to provinces which had kept their district councils.](https://pdfs.semanticscholar.org/f4a4/e47eaf7a70296ab889dcd5ad0f531f9f9e31.pdf)__ However, the report did not analyze in depth the effects of abolishing district councils on Vietnam’s business climate, specifically whether or not recentralization of power helped business efficiency by cutting red tape and removing regulatory redundancies. I saw a great opportunity to take advantage of a close-to-ideal “natural experiment” in recentralization policy, and tie it to business climate, providing real empirical evidence on whether more localized government makes business regulation more efficient or less."
   ]
  },
  {
   "cell_type": "markdown",
   "metadata": {},
   "source": [
    "### Literature Review\n"
   ]
  },
  {
   "cell_type": "markdown",
   "metadata": {},
   "source": [
    "### Data Collection\n",
    "\n",
    "To test the effects of the recentralization of power on the business environment in Vietnam, \n",
    "I went first to a database developed by the same Dr. Edmund Malesky, the Vietnam Provincial \n",
    "Competitiveness Index (PCI). The report compiles surveys of businesspeople in over 8,000 firms \n",
    "in Vietnam over all 63 provinces and municipalities from 2005 through 2012.4 Among the nine \n",
    "indicators, entry costs, and particularly average number of days to register a new business \n",
    "seemed relatively concrete and potentially correlated with the removal of district councils in \n",
    "the 10 set provinces. The idea is that as the middle-step governing body is removed, removing \n",
    "a potential veto gate, businesses will face less red tape, and therefore quicker approval for \n",
    "new ventures. My second data source was Dr. Malesky’s earlier report, from which I recorded \n",
    "which provinces had undergone treatment, and which provincial-level bodies are considered \n",
    "“municipalities.” I created dummies for the treatment group, with the first observations in \n",
    "2009, although the treatment (of dropping district-level governance) begin in April of that \n",
    "year.6 I also went to the website of the General Statistics Office of Vietnam2, from where I \n",
    "downloaded data on FDI, focusing on the number of FDI-backed projects registered in each \n",
    "province in each year, excepting 2012, which is not yet available. My thinking was that the \n",
    "size of a project was likely largely irrelevant to paperwork and registration time, as large \n",
    "and small projects alike generally undergo similar bureaucratic processes. More relevant was \n",
    "the number of foreign-funded projects being registered, since the volume of paperwork may \n",
    "backlog and cause longer waiting periods to register a business. I assumed that a higher rate of \n",
    "FDI registration likely correlates with a higher rate of overall business registrations in a \n",
    "province. "
   ]
  },
  {
   "cell_type": "markdown",
   "metadata": {},
   "source": [
    "### Data Exploration and Cleaning\n",
    "\n",
    "Before merging this data in STATA from Excel, I added zeroes to the provinces with no FDI project \n",
    "registrations (no registrations in a province in given year should be a zero, not a \n",
    "non-observation). In 2008, Ha Tay province was merged into the economically and \n",
    "demographically much-larger neighboring Hanoi municipality,7 and continues to appear as a small \n",
    "fraction of the data and scores comprising the “Hanoi Municipality” in data from 2009-2012. \n",
    "Therefore, Ha Tay does not appear in my regressions. This omission could potentially cause either \n",
    "positive or negative bias in my betas. This is in line with the analysis of Dr. Malesky, who only \n",
    "recognized 63 provinces in his model,6 although technically Ha Tay existed as a separate unit until \n",
    "August of 2008.7\n",
    "\n",
    "A quick look at the data reveals large discrepancies in average registration days over time, with 2006 clearly displaying abnormally long wait times. According to a 2006 report on the Vietnam PCI by USAID, this arises from discrepancies in the definition of waiting periods, which were not clarified until the 2007 survey.1\n",
    "\n",
    "***execute graphic here***\n",
    "\n",
    "Since our analysis is looking to find a straight line of best fit, the inconsistent definition and unusually high wait time in 2006 could seriously impact our estimates. I rejected the option of trying to adjust this variable, ***regdays***, over time, and decided that, due to the unclear questioning, the data in 2006 reflected a significantly different question than in 2007-2012. I began my observations in 2007 in favor of a more consistently defined dependent variable for my model."
   ]
  },
  {
   "cell_type": "markdown",
   "metadata": {},
   "source": [
    "### Method and Model\n",
    "\n",
    "First off, I ran an OLS pooled regression explaining time to register a business with the number of new \n",
    "FDI-backed projects registered and a dummy, ***treatment***, for the removal of district councils in some \n",
    "provinces in April of 2009, and controlling for year through dummy variables:\n",
    "***insert equation***, where ***regdays*** is the average time in days to register a business, ***treatment*** is a dummy where 1 = removal of district councils and 0 = persistence of district councils, and ***newfdi*** is the number of newly registered FDI projects. I only added dummies for the years 2008 through 2011, since I need to exclude one dummy to avoid colinearity, and since 2012 sadly lacks any observations for ***newfdi***, which would result in the variable being excluded from the regression. The pooled-OLS regression was problematic, as Vietnam is a country of immense intra-province diversity, resulting in potentially huge ***symbol*** unobserved heterogeneity values within provinces and over time. To remove the effects caused by differences in provinical government employees’ personalities, differences in types of foreign-invested projects in provinces of differing comparative advantages, etc., I ran a fixed effects regression as follows:\n",
    "***insert equation***\n",
    "where ***i*** denotes each province over time, and ***t*** represents each year, from 2007 through 2012. STATA indicates that my panel is strongly balanced. I could attempt to increase the extremely low explanatory power of my model and account for any remaining unobserved variable bias by accounting for region (which also incorporates what sectors of businesses are being registered there, since environmental concerns with mining in the Central Highlands probably cause different registration timelines than setting up a factory in Hanoi). However, since the treatment provinces were chosen to mimic a quasi-random experiment, and are stratified by regional differences, access to infrastructure, levels of development, etc.,2 most of the differences between the treatment and the non-treatment provinces has probably been accounted for, and would not change within an individual province in any case. I did, however, choose to keep the ***newfdi*** variable since an increase in the amount of paperwork traffic passing through a particular office would very likely adversely affect registration wait periods. Indeed, wait times in the Vietnam PCI are visibly higher in 2007, immediately before foreign capital fled in the 2008 economic and inflation crisis, and extra paperwork traffic during the economic boom is one potential explanation for 2007’s longer waits.\n",
    "Potential endogeneity could still come from the fact that three of five municipalities in Vietnam are represented in the treatment group, meaning highly urbanized business hubs make up 30% of our treatment group, and only 8% of the total provinces in Vietnam. The treatment group, therefore, is more urban and likely more involved in FDI-backed business activity than non-treatment counterparts. Correlating our dummy variable municipal on our dummy variable treatment, we indeed see in endogeneity problem where two of our explanatory variables are correlated.\n",
    "***insert graphic***\n",
    "The high correlation means than if the treatment has a different effect, or the same effect to a different degree in municipalities than in provinces, our beta could be biased. Incorporating a dummy municipal, 1 for municipalities and 0 for provinces, directly into my fixed effects model is also not possible due to colinearity issues (each ***i*** is either municipal or not municipal throughout all ***t***), so instead I added an interaction effect, to see if the effect of the treatment on municipalities is statistically different than the effect on non-municipalities, giving my new fixed effects model with an interaction:\n",
    "***insert equation***\n",
    "I did not look for a corruption indicator to include in my model, although corruption would likely hold up new registrations and increase registration times. I assumed corruption would be fairly consistent over a given period in a given province (since the same officials would likely oversee activities), and therefore left it out of my data and model."
   ]
  },
  {
   "cell_type": "markdown",
   "metadata": {},
   "source": [
    "### Robustness Checks\n",
    "\n",
    "First, I wanted to check for any immediately noticeable trends in my data I may not have accounted for. Graphing ***regdays*** over time, the interocular suggests there’s nothing extremely worrying in terms of trends I would need to account for in my model. Also, I did not test further for lags or autocorrelation, since intuitively it is unlikely that the waiting period to register a new venture this year is at all dependent on what the wait was in a previous period. However, the random fluctuations in my data between seven and ten days led me to run a Hausman test to see if a fixed effects model was really more appropriate than a random effects model.\n",
    "***insert graphic***\n",
    "Surprisingly, the Hausman Prob>chi2 = 0.2961, far above the rejection level of 0.05 required to prefer a fixed effects to a random effects model. This means my ***insert symbol*** is very highly likely correlated with my explanatory variables, and that a lot of my variation may be due to time-invariant variables. As per my discussion earlier, my mind went immediately to the effect of being a municipality as a potential time-invariant variable. I also used robust standard errors to account for heteroskedasticity (as an lrtest gave a p value of over 0.9), resulting in a new mixed effects model of: ***insert equation*** where ***symbol*** represents error within each province. I added the ***municipal*** dummy variable alongside the interaction effect of ***treatment*** and ***municipal***, since I could now get the effect of ***municipal*** by itself, as per my original intuition. However, the resulting ***beta*** from including ***municipal*** was insignificant in both standalone and in interaction terms, and didn’t change my other ***betas*** or my ***rho*** by a significant amount from what my revised random effects model would have been without including ***municipal***. I wanted to check if my random effects model was better than an OLS model with a Breusch-Pagan test. The p-value of a number greater than chibar2 was 0.000, meaning a random effects model (not yet with robust standard errors) is indeed preferable in explaining my data.\n",
    "To make my model better, and to explain more of the random activity in my variables, I would have liked to add more time-invariant factors, and account for the some of the omitted variable bias doubtlessly plaguing my current model. Some options would be the aforementioned measures on corruption, which likely increase time as money greases hands behind-the-scenes, as well as more practical measures like how many workers are responsible for registry in each province and what days applications were turned in (seasonality to account of weekly cycles, superstitions about starting businesses on lucky days, etc.), all of which could reasonably explain variation in business registration delays."
   ]
  },
  {
   "cell_type": "markdown",
   "metadata": {},
   "source": [
    "### Results\n",
    "he results of my OLS, original fixed effects model, fixed effects counting for the interaction effect of municipalities and the treatment, and my final random effects model with robust standard errors are all given in the appendix. Unsurprisingly, my treatment was insignificant in OLS, although the correlation with years was statistically significant, shrinking by 3.6 days from 2007 levels by 2011, and the correlation with the number of new FDI projects was highly statistically significant, though small, with every seven or so extra FDI applications causing other applications that year to get backlogged by one day. Since the effects of time differences (especially in an economy so affected by the crisis of 2008) and provinces were unobserved, I am skeptical of the significance of these results. My treatment unsurprisingly became significant once I ran a fixed effects model, with treatment being highly statistically significant. The model predicted that recentralization corresponded with 2.8 days shorter registration times (with a 95% CI between 4.40 and 1.26 fewer days), although the effect of the volume of new FDI-backed ventures was not significant. Adding an interaction effect for the effect of a district being both municipal and treatment did not produce significant results, and in fact made the treatment only marginally significant, corresponding to waiting times shrinking by an estimated 2.7 days, since any of the effect of municipalities in the treatment group was removed by the interaction. With the random effects model with robust standard errors, both the treatment and the volume of new FDI projects being registered were significant, even with the effect of being both municipal and treatment removed, although the treatment effect and the effect of being a municipality were both insignificant. By our final model, being treatment and non-municipal was expected to reduce business registration periods by 2.5 days, and each additional FDI-backed project correlates with registration backlogged by 0.013 days (although this number is so small as to be unimportant)."
   ]
  },
  {
   "cell_type": "markdown",
   "metadata": {},
   "source": [
    "### Conclusion\n",
    "\n",
    "As predicted by Dr. Malesky,6 recentralization does correlate with shorter business registration periods, although exact wait times are somewhat random within a given province (hence random effects), which suggests omitted variables and omitted variable bias. These random effects could likely be due to local bureaucratic particularities, such as if the province was busy dealing with a natural disaster, if a particular business venture was more complicated to register, or if a company poorly filled out its paperwork. A lot of variation probably also comes from the fact that the same companies were not registered for the first time in each province in each year. The variation between these various new businesses created a strong random effects model, but in which the effects of recentralization could still be observed. Perhaps future studies could account for the variation among businesses to provide a stronger model for the effects of political recentralization and the local business environment."
   ]
  },
  {
   "cell_type": "code",
   "execution_count": null,
   "metadata": {},
   "outputs": [],
   "source": []
  }
 ],
 "metadata": {
  "kernelspec": {
   "display_name": "R",
   "language": "R",
   "name": "ir"
  },
  "language_info": {
   "codemirror_mode": "r",
   "file_extension": ".r",
   "mimetype": "text/x-r-source",
   "name": "R",
   "pygments_lexer": "r",
   "version": "3.4.3"
  }
 },
 "nbformat": 4,
 "nbformat_minor": 2
}
