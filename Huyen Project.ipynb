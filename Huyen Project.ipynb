{
 "cells": [
  {
   "cell_type": "code",
   "execution_count": 4,
   "metadata": {},
   "outputs": [
    {
     "ename": "ERROR",
     "evalue": "Error in parse(text = x, srcfile = src): <text>:4:4: unexpected numeric constant\n3: \n4: In 2009\n      ^\n",
     "output_type": "error",
     "traceback": [
      "Error in parse(text = x, srcfile = src): <text>:4:4: unexpected numeric constant\n3: \n4: In 2009\n      ^\nTraceback:\n"
     ]
    }
   ],
   "source": [
    "# It’s Not a Matter of If, It’s a Matter of Huyện\n",
    "## Cutting the Red Tape for New Businesses in Vietnam: A Panel Study\n",
    "\n",
    "In 2009, Vietnam removed all district-level councils in ten provinces, \n",
    "specifically chosen as a quasi-random sampling, in order to statistically \n",
    "assess the effects of recentralization on service provision and corruption. \n",
    "However, removing an extra step in the hierarchy of specific provinces also \n",
    "simplified new business registration in those areas, cutting new business \n",
    "registration times by 2.5 days, suggesting that further recentralization of \n",
    "power to the provincial level may improve the efficiency of bureaucracy in \n",
    "dealing with business startups.\n"
   ]
  },
  {
   "cell_type": "code",
   "execution_count": null,
   "metadata": {},
   "outputs": [],
   "source": []
  }
 ],
 "metadata": {
  "kernelspec": {
   "display_name": "R",
   "language": "R",
   "name": "ir"
  },
  "language_info": {
   "codemirror_mode": "r",
   "file_extension": ".r",
   "mimetype": "text/x-r-source",
   "name": "R",
   "pygments_lexer": "r",
   "version": "3.4.3"
  }
 },
 "nbformat": 4,
 "nbformat_minor": 2
}
